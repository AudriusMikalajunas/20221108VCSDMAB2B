{
 "cells": [
  {
   "cell_type": "code",
   "execution_count": 14,
   "metadata": {},
   "outputs": [
    {
     "name": "stdout",
     "output_type": "stream",
     "text": [
      "hello\n",
      "hello\n",
      "hello\n"
     ]
    }
   ],
   "source": [
    "print('hello')\n",
    "print('hello')\n",
    "print('hello')"
   ]
  },
  {
   "cell_type": "code",
   "execution_count": 15,
   "metadata": {},
   "outputs": [
    {
     "name": "stdout",
     "output_type": "stream",
     "text": [
      "new cell\n"
     ]
    }
   ],
   "source": [
    "print('new cell')"
   ]
  },
  {
   "cell_type": "code",
   "execution_count": 16,
   "metadata": {},
   "outputs": [],
   "source": [
    "x = 5"
   ]
  },
  {
   "cell_type": "code",
   "execution_count": 17,
   "metadata": {},
   "outputs": [
    {
     "name": "stdout",
     "output_type": "stream",
     "text": [
      "5\n"
     ]
    }
   ],
   "source": [
    "print(x)"
   ]
  },
  {
   "cell_type": "code",
   "execution_count": 18,
   "metadata": {},
   "outputs": [
    {
     "name": "stdout",
     "output_type": "stream",
     "text": [
      "7\n"
     ]
    }
   ],
   "source": [
    "\n",
    "#variable name = 5 error\n",
    "variable_name = 5\n",
    "\n",
    "# 1st_number - 1 error\n",
    "number_1 = 1\n",
    "\n",
    "# this is a constant value and it sholdn't be changed/updated\n",
    "CONSTANT_VALUE = 7\n",
    "\n",
    "\n",
    "print(CONSTANT_VALUE)"
   ]
  },
  {
   "cell_type": "code",
   "execution_count": 19,
   "metadata": {},
   "outputs": [],
   "source": [
    "import this"
   ]
  },
  {
   "attachments": {},
   "cell_type": "markdown",
   "metadata": {},
   "source": [
    "String"
   ]
  },
  {
   "cell_type": "code",
   "execution_count": 20,
   "metadata": {},
   "outputs": [],
   "source": [
    "name = 'Audrius'"
   ]
  },
  {
   "cell_type": "code",
   "execution_count": 21,
   "metadata": {},
   "outputs": [
    {
     "name": "stdout",
     "output_type": "stream",
     "text": [
      "Audrius\n"
     ]
    }
   ],
   "source": [
    "print(name)"
   ]
  },
  {
   "cell_type": "code",
   "execution_count": 28,
   "metadata": {},
   "outputs": [
    {
     "name": "stdout",
     "output_type": "stream",
     "text": [
      "A\n",
      "u\n",
      "s\n",
      "s\n",
      "A\n",
      "7\n"
     ]
    }
   ],
   "source": [
    "print(name[0])\n",
    "print(name[1])\n",
    "print(name[6])\n",
    "print(name[-1]) # 1st letter from the end\n",
    "print('Audrius'[0])\n",
    "print(len(name)) # len - lenght"
   ]
  },
  {
   "attachments": {},
   "cell_type": "markdown",
   "metadata": {},
   "source": [
    "Slicing"
   ]
  },
  {
   "cell_type": "code",
   "execution_count": 33,
   "metadata": {},
   "outputs": [
    {
     "name": "stdout",
     "output_type": "stream",
     "text": [
      "H\n",
      "llo world\n",
      "llo\n",
      "Hello\n",
      "Hello\n"
     ]
    }
   ],
   "source": [
    "text = 'Hello world'\n",
    "\n",
    "# slacing: variable_name[start:end]\n",
    "print(text[0])\n",
    "print(text[2:]) # takes everything from 3rd letter\n",
    "print(text[2:5]) # takes everything from 3rd letter up to 6th letter (6 not included)\n",
    "print(text[:5])\n",
    "print(text[0:5]) # same as previous\n"
   ]
  },
  {
   "cell_type": "code",
   "execution_count": 37,
   "metadata": {},
   "outputs": [
    {
     "name": "stdout",
     "output_type": "stream",
     "text": [
      "ello wor\n",
      "el o\n",
      "eoo\n",
      "dlrow olleH\n"
     ]
    }
   ],
   "source": [
    "# slacing with step: variable_name[start:end:step]\n",
    "print( text[1:9] )\n",
    "print( text[1:9:2] )\n",
    "print( text[1:9:3] )\n",
    "\n",
    "print( text[::-1] ) # reverse the word"
   ]
  },
  {
   "cell_type": "code",
   "execution_count": 42,
   "metadata": {},
   "outputs": [
    {
     "name": "stdout",
     "output_type": "stream",
     "text": [
      "I can't go today\n",
      "I can't go today\n",
      "I can't go today\n"
     ]
    }
   ],
   "source": [
    "# text = 'I can't go today' # error\n",
    "text = \"I can't go today\"\n",
    "print(text)\n",
    "text_2 = \"I can\\'t go today\"\n",
    "print(text_2)\n",
    "text_3 = '''I can't go today'''\n",
    "print(text_3)"
   ]
  },
  {
   "cell_type": "code",
   "execution_count": 47,
   "metadata": {},
   "outputs": [
    {
     "name": "stdout",
     "output_type": "stream",
     "text": [
      "\n",
      "            line one\n",
      "            line two\n",
      "no spacing\n",
      "\n"
     ]
    }
   ],
   "source": [
    "# text_4 = \"\n",
    "#             line one\n",
    "#             line two\n",
    "# \" # error\n",
    "\n",
    "text_4 = '''\n",
    "            line one\n",
    "            line two\n",
    "no spacing\n",
    "''' \n",
    "\n",
    "print(text_4)"
   ]
  },
  {
   "cell_type": "code",
   "execution_count": 49,
   "metadata": {},
   "outputs": [],
   "source": [
    "number = 5\n",
    "number_symbol = '5'\n",
    "# number + number_symbol # error\n"
   ]
  },
  {
   "cell_type": "code",
   "execution_count": 50,
   "metadata": {},
   "outputs": [
    {
     "name": "stdout",
     "output_type": "stream",
     "text": [
      "I can't go today\n"
     ]
    }
   ],
   "source": [
    "print(text)"
   ]
  },
  {
   "cell_type": "code",
   "execution_count": 61,
   "metadata": {},
   "outputs": [
    {
     "name": "stdout",
     "output_type": "stream",
     "text": [
      "Title\n",
      "I CAN'T GO TODAY\n",
      "I Can'T Go Today\n",
      "i can't go today\n",
      "2\n",
      "I can't go tomorrow\n",
      "I cAAn't go todAAy\n",
      "I cAAn't go today\n",
      "8\n",
      "go\n"
     ]
    }
   ],
   "source": [
    "print( 'title'.capitalize() )\n",
    "print( text.upper() )\n",
    "print( text.title() )\n",
    "print( text.lower() )\n",
    "print( text.count('a') )\n",
    "print( text.replace('today', 'tomorrow') )\n",
    "print( text.replace('a', 'AA') )\n",
    "print( text.replace('can', 'cAAn') )\n",
    "print( text.find('go') )\n",
    "print( text[8:10] )\n"
   ]
  },
  {
   "cell_type": "code",
   "execution_count": 64,
   "metadata": {},
   "outputs": [
    {
     "name": "stdout",
     "output_type": "stream",
     "text": [
      "n'\n",
      "go today to the cinema\n"
     ]
    }
   ],
   "source": [
    "text_2 = \"Hi, I can't go today to the cinema\"\n",
    "print( text_2[8:10] ) # wrong\n",
    "print( text_2[ text_2.find('go'):] )"
   ]
  },
  {
   "attachments": {},
   "cell_type": "markdown",
   "metadata": {},
   "source": [
    "Style Guide for Python Code https://peps.python.org/pep-0008"
   ]
  }
 ],
 "metadata": {
  "kernelspec": {
   "display_name": "Python 3",
   "language": "python",
   "name": "python3"
  },
  "language_info": {
   "codemirror_mode": {
    "name": "ipython",
    "version": 3
   },
   "file_extension": ".py",
   "mimetype": "text/x-python",
   "name": "python",
   "nbconvert_exporter": "python",
   "pygments_lexer": "ipython3",
   "version": "3.9.7"
  },
  "orig_nbformat": 4,
  "vscode": {
   "interpreter": {
    "hash": "fbc6b7e58c52507c463816d829dbc960a5821013792243ff84a848b75a77d201"
   }
  }
 },
 "nbformat": 4,
 "nbformat_minor": 2
}
